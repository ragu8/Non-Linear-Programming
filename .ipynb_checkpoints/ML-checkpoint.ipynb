{
 "cells": [
  {
   "cell_type": "code",
   "execution_count": null,
   "metadata": {},
   "outputs": [],
   "source": [
    "import numpy as np\n",
    "import matplotlib.pyplot as plt\n",
    "from matplotlib.animation import FuncAnimation\n",
    "from IPython.display import HTML\n",
    "\n",
    "class LinearRegressionAnimation:\n",
    "    def __init__(self, learning_rate=0.01, n_iterations=1000):\n",
    "        self.learning_rate = learning_rate\n",
    "        self.n_iterations = n_iterations\n",
    "        self.history = {'a': [], 'b': [], 'rmse': [], 'r_squared': []}\n",
    "\n",
    "    def compute_gradients(self, x, y):\n",
    "        N = len(x)\n",
    "        y_pred = self.a * x + self.b\n",
    "        grad_a = (2/N) * np.sum(x * (y_pred - y))\n",
    "        grad_b = (2/N) * np.sum(y_pred - y)\n",
    "        return grad_a, grad_b\n",
    "\n",
    "    def fit(self, x, y):\n",
    "        self.a = (np.corrcoef(x, y)[0,1]) * (np.std(x)/np.std(y))\n",
    "        self.b = (np.mean(y))*(self.a*(np.mean(x)))\n",
    "        for _ in range(self.n_iterations):\n",
    "            grad_a, grad_b = self.compute_gradients(x, y)\n",
    "            # Update parameters using gradients\n",
    "            self.a -= self.learning_rate * grad_a\n",
    "            self.b -= self.learning_rate * grad_b\n",
    "            # Compute RMSE and R-squared for evaluation\n",
    "            y_pred = self.a * x + self.b\n",
    "            rmse = np.sqrt(np.mean((y_pred - y)**2))\n",
    "            r_squared = 1 - (np.sum((y - y_pred)**2) / np.sum((y - np.mean(y))**2))\n",
    "            self.history['a'].append(self.a)\n",
    "            self.history['b'].append(self.b)\n",
    "            self.history['rmse'].append(rmse)\n",
    "            self.history['r_squared'].append(r_squared)\n",
    "\n",
    "    def animate_gradient_descent(self, x, y):\n",
    "        fig, ax = plt.subplots()\n",
    "        ax.scatter(x, y, color='blue')\n",
    "        line, = ax.plot([], [], lw=2, color='red')\n",
    "        annotation = ax.text(-1, 100, '')\n",
    "\n",
    "        def init():\n",
    "            line.set_data([], [])\n",
    "            annotation.set_text('')\n",
    "            return line, annotation\n",
    "\n",
    "        def animate(i):\n",
    "            x_vals = np.linspace(min(x), max(x), 100)\n",
    "            y_vals = self.history['a'][i] * x_vals + self.history['b'][i]\n",
    "            line.set_data(x_vals, y_vals)\n",
    "            annotation.set_text('Iteration: {}'.format(i))\n",
    "            return line, annotation\n",
    "\n",
    "        anim = FuncAnimation(fig, animate, init_func=init, frames=len(self.history['a']), interval=100, blit=True)\n",
    "        plt.close()  # Close the plot to prevent it from displaying initially\n",
    "        return HTML(anim.to_jshtml())\n"
   ]
  },
  {
   "cell_type": "code",
   "execution_count": null,
   "metadata": {},
   "outputs": [],
   "source": [
    "# Example usage:\n",
    "x = np.array([1, 2, 3, 4, 5])\n",
    "y = np.array([2, 4, 6, 8, 10])\n",
    "\n",
    "model = LinearRegressionAnimation()\n",
    "model.fit(x, y)\n",
    "\n",
    "# Animate gradient descent\n",
    "model.animate_gradient_descent(x, y)"
   ]
  },
  {
   "cell_type": "code",
   "execution_count": null,
   "metadata": {},
   "outputs": [],
   "source": []
  }
 ],
 "metadata": {
  "kernelspec": {
   "display_name": "Python 3",
   "language": "python",
   "name": "python3"
  },
  "language_info": {
   "codemirror_mode": {
    "name": "ipython",
    "version": 3
   },
   "file_extension": ".py",
   "mimetype": "text/x-python",
   "name": "python",
   "nbconvert_exporter": "python",
   "pygments_lexer": "ipython3",
   "version": "3.8.5"
  }
 },
 "nbformat": 4,
 "nbformat_minor": 4
}
